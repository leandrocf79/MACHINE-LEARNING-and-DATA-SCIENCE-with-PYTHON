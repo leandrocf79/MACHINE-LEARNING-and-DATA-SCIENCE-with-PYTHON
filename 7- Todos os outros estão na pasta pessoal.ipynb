{
 "cells": [
  {
   "cell_type": "raw",
   "id": "c420e2d1",
   "metadata": {},
   "source": [
    "Tratamento de dados \n",
    "Naive Bayes\n",
    "Arvores de decisão\n",
    "Aprendizagem por regras\n",
    "KNN\n",
    "SVM\n",
    "Redes Neurais Artificiais\n",
    "Melhorar algoritimo com ANOVA e Tukey\n",
    "Combinação e regeição\n",
    "Regressão linear\n",
    "Outros tipos de regressão\n",
    "Apriori\n",
    "ECLAT\n",
    "Agrupamentos com k-means, hierárquico, DBSCAN\n",
    "Aprendizagem por reforço: Q-Learning\n",
    "Linguagem natural: spaCy e NLTK\n",
    "**Reconhecimento facial\n",
    "**Reconhecimento de objetos\n",
    "Tratamento de dados desbalanceados: Tomek, SMOTE\n",
    "Extra trees\n",
    "PCA, LDK\n",
    "PYOD, OutLier\n",
    "ARIMA, Prophet\n",
    "Programação básica Python\n",
    "\n",
    "\n"
   ]
  },
  {
   "cell_type": "code",
   "execution_count": null,
   "id": "dcc4f873",
   "metadata": {},
   "outputs": [],
   "source": []
  }
 ],
 "metadata": {
  "kernelspec": {
   "display_name": "Python 3",
   "language": "python",
   "name": "python3"
  },
  "language_info": {
   "codemirror_mode": {
    "name": "ipython",
    "version": 3
   },
   "file_extension": ".py",
   "mimetype": "text/x-python",
   "name": "python",
   "nbconvert_exporter": "python",
   "pygments_lexer": "ipython3",
   "version": "3.8.8"
  }
 },
 "nbformat": 4,
 "nbformat_minor": 5
}
